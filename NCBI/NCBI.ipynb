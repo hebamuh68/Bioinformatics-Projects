{
 "cells": [
  {
   "cell_type": "markdown",
   "id": "bb59d195",
   "metadata": {},
   "source": [
    "# How To:\n",
    "- Download fasta file from \"ncbi\" using it's Accession Number with Python\n",
    "- Print its Transcription.\n",
    "- Print its Translation.\n"
   ]
  },
  {
   "cell_type": "markdown",
   "id": "e3e1e3d7",
   "metadata": {},
   "source": [
    "<div class=\"alert alert-block alert-success\">\n",
    "<b>First import required library.</b> \n",
    "</div>"
   ]
  },
  {
   "cell_type": "code",
   "execution_count": 7,
   "id": "e33a68b8",
   "metadata": {},
   "outputs": [],
   "source": [
    "from Bio import Entrez"
   ]
  },
  {
   "cell_type": "code",
   "execution_count": 8,
   "id": "a99acf83",
   "metadata": {},
   "outputs": [],
   "source": [
    "class NCBI:\n",
    "    \n",
    "    def __init__(self, Accession):\n",
    "        self.Accession = Accession\n",
    "\n",
    "        # install fasta file\n",
    "        seq_fasta = open(\"seq.txt\", \"w\")\n",
    "        Entrez.email = \"muhamedheba2@gmail.com\"\n",
    "        seq = Entrez.efetch(db=\"nucleotide\", id=Accession, rettype=\"fasta\", retmode=\"text\")\n",
    "        seq_fasta.write(seq.read())\n",
    "        seq_fasta.close()\n",
    "        self.full_seq = ''\n",
    "\n",
    "        # skip description line and store sequnce in full_seq\n",
    "        with open(\"seq.txt\") as f:\n",
    "            next(f)\n",
    "            for line in f:\n",
    "                self.full_seq += line\n",
    "\n",
    "\n",
    "    def transcription(self):\n",
    "        DNA = self.full_seq\n",
    "        nucleotides = {'A': 'U', 'C': 'G', 'G': 'C', 'T': 'A'}\n",
    "        self.mRna = \"\".join(nucleotides[n] for n in DNA if n != \"\\n\")\n",
    "\n",
    "        return self.mRna\n",
    "\n",
    "\n",
    "    def translation(self):\n",
    "        mRna = NCBI.transcription(self)\n",
    "        table = {'UUA': 'U', 'UUG': 'U', 'CUU': 'U',\n",
    "                 'CUC': 'U', 'CUA': 'U', 'CUG': 'U',\n",
    "                 'GCC': 'A', 'GCA': 'A', 'GCU': 'A',\n",
    "                 'GCG': 'A', 'AAA': 'K', 'AAG': 'K',\n",
    "                 'CGU': 'R', 'CGC': 'R', 'CGA': 'R',\n",
    "                 'CGG': 'R', 'AGA': 'R', 'AGG': 'R',\n",
    "                 'AUG': 'M', 'AAU': 'N', 'AAC': 'N',\n",
    "                 'UUU': 'F', 'UUC': 'F', 'GAU': 'D',\n",
    "                 'GAC': 'D', 'CCU': 'P', 'CCC': 'P',\n",
    "                 'CCA': 'P', 'CCG': 'P', 'UGU': 'C',\n",
    "                 'UGC': 'C', 'UCU': 'S', 'UCC': 'S',\n",
    "                 'UCA': 'S', 'UCG': 'S', 'AGU': 'S',\n",
    "                 'AGC': 'S', 'CAA': 'Q', 'CAG': 'Q',\n",
    "                 'ACU': 'T', 'ACC': 'T', 'ACA': 'T',\n",
    "                 'GAA': 'E', 'GAG': 'E', 'UGG': 'W',\n",
    "                 'GGU': 'G', 'GGC': 'G', 'GGA': 'G',\n",
    "                 'UAU': 'Y', 'UAC': 'Y', 'ACG': 'T',\n",
    "                 'CAU': 'H', 'CAC': 'H', 'GGG': 'G',\n",
    "                 'GUU': 'V', 'GUC': 'V', 'GUA': 'V',\n",
    "                 'AUU': 'I', 'AUC': 'I', 'AUA': 'I',\n",
    "                 'GUG': 'V', 'UAA': 'STOP', 'UGA': 'STOP', 'UAG': 'STOP'}\n",
    "\n",
    "        protein = \"\"\n",
    "        for i in range(len(mRna)):\n",
    "            codon = mRna[i:i + 3]\n",
    "            if table[codon] == \"STOP\":\n",
    "                break\n",
    "            else:\n",
    "                protein += table[codon]\n",
    "\n",
    "        return protein"
   ]
  },
  {
   "cell_type": "markdown",
   "id": "c4346a85",
   "metadata": {},
   "source": [
    "<div class=\"alert alert-block alert-success\">\n",
    "<b>Ask the user to input the Accession number</b> \n",
    "</div>\n",
    "\n",
    "<div class=\"alert alert-block alert-success\">\n",
    "<b>Ex: MF991898.1</b> \n",
    "</div>"
   ]
  },
  {
   "cell_type": "code",
   "execution_count": 9,
   "id": "93149e8c",
   "metadata": {},
   "outputs": [
    {
     "name": "stdout",
     "output_type": "stream",
     "text": [
      "Enter the Accession: MF991898.1\n"
     ]
    }
   ],
   "source": [
    "Accession = input(\"Enter the Accession: \")"
   ]
  },
  {
   "cell_type": "markdown",
   "id": "1fe17460",
   "metadata": {},
   "source": [
    "<div class=\"alert alert-block alert-success\">\n",
    "<b>Initate the class</b> \n",
    "</div>"
   ]
  },
  {
   "cell_type": "code",
   "execution_count": 12,
   "id": "6bcc9c7c",
   "metadata": {},
   "outputs": [],
   "source": [
    "obj = NCBI(Accession)"
   ]
  },
  {
   "cell_type": "markdown",
   "id": "f5c1622d",
   "metadata": {},
   "source": [
    "<div class=\"alert alert-block alert-success\">\n",
    "<b>Print the Transcription</b> \n",
    "</div>"
   ]
  },
  {
   "cell_type": "code",
   "execution_count": 13,
   "id": "6ec33bfa",
   "metadata": {},
   "outputs": [
    {
     "name": "stdout",
     "output_type": "stream",
     "text": [
      "The sequence Transcripted into: GUCGUCUCGAGACCAAGACCCCUAGGAGCGGGACUGGUGGCGCGAGUCGGGGACACCUCCACUUCUGCUGUAAUUCCGGGUCGUACAACCAAGGAUACCAUAUCUCCAGAUAAUAAGAAUACCUGGGUUACCGGUCAUGUGUAAACUUAAACUACCACUGCUCCUCAUGAUACACCUGAACCUAUUCUUCCUCUGUUAGACCUCCUAAGGACUCAAACCGGUUGACUGUUCGAAACUGGGUGUUCCACCUGAUGUUCUCUAUCGAUAUCGUUUUGUGUUGGACCUUCAGUACAGCUUUCUCAGGUUAAGAUGGGGUCGAUGGUUACUCCAAGGACUCCACUGACACAAGGGGUUCAGGGGACACGACGACCCAGUCGGGUUGUGGGAGUAGACGAGACACCUGUUGUAGAAA\n"
     ]
    }
   ],
   "source": [
    "mRna = obj.transcription()\n",
    "print(\"The sequence Transcripted into:\", mRna)"
   ]
  },
  {
   "cell_type": "markdown",
   "id": "cab254d5",
   "metadata": {},
   "source": [
    "<div class=\"alert alert-block alert-success\">\n",
    "<b>Print the translation</b> \n",
    "</div>"
   ]
  },
  {
   "cell_type": "code",
   "execution_count": 14,
   "id": "b01ed7a4",
   "metadata": {},
   "outputs": [
    {
     "name": "stdout",
     "output_type": "stream",
     "text": [
      "The sequence Translated into: VSRVSUSRERDTPQKRDTPPPU\n"
     ]
    }
   ],
   "source": [
    "pb = obj.translation()\n",
    "print(\"The sequence Translated into:\", pb)"
   ]
  }
 ],
 "metadata": {
  "kernelspec": {
   "display_name": "Python 3 (ipykernel)",
   "language": "python",
   "name": "python3"
  },
  "language_info": {
   "codemirror_mode": {
    "name": "ipython",
    "version": 3
   },
   "file_extension": ".py",
   "mimetype": "text/x-python",
   "name": "python",
   "nbconvert_exporter": "python",
   "pygments_lexer": "ipython3",
   "version": "3.8.10"
  }
 },
 "nbformat": 4,
 "nbformat_minor": 5
}
